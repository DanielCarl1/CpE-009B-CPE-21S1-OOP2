{
  "nbformat": 4,
  "nbformat_minor": 0,
  "metadata": {
    "colab": {
      "provenance": [],
      "authorship_tag": "ABX9TyP34Z3HDzwEVN/2rzFqtKg1",
      "include_colab_link": true
    },
    "kernelspec": {
      "name": "python3",
      "display_name": "Python 3"
    },
    "language_info": {
      "name": "python"
    }
  },
  "cells": [
    {
      "cell_type": "markdown",
      "metadata": {
        "id": "view-in-github",
        "colab_type": "text"
      },
      "source": [
        "<a href=\"https://colab.research.google.com/github/DanielCarl1/CpE-009B-CPE-21S1-OOP2/blob/main/Exercise5.ipynb\" target=\"_parent\"><img src=\"https://colab.research.google.com/assets/colab-badge.svg\" alt=\"Open In Colab\"/></a>"
      ]
    },
    {
      "cell_type": "code",
      "source": [
        "#Polymorphism\n",
        "\n",
        "class Person:\n",
        "    def __init__(self, name, age):\n",
        "        self.name = name\n",
        "        self.age = age\n",
        "\n",
        "#Inherits the attributes of a person\n",
        "class Student(Person):\n",
        "    def traits(self):\n",
        "        return f\"Studying, Playing,dancing,singing\"\n",
        "\n",
        "\n",
        "class Teacher(Person):\n",
        "    def traits(self):\n",
        "        return f\"Teaching, socializing, participating\"\n",
        "\n",
        "\n",
        "student = Student(\"Ana\", 20)\n",
        "teacher = Teacher(\"Maam Sayo\", 41)\n",
        "\n",
        "print(\"As a student, I do\", student.traits())\n",
        "print(\"As a teacher, I do\", teacher.traits())"
      ],
      "metadata": {
        "colab": {
          "base_uri": "https://localhost:8080/"
        },
        "id": "qGXQ47yORLTX",
        "outputId": "5dcd87b1-854f-4a04-89ac-d99e09acacb2"
      },
      "execution_count": 25,
      "outputs": [
        {
          "output_type": "stream",
          "name": "stdout",
          "text": [
            "As a student, I do Studying, Playing,dancing,singing\n",
            "As a teacher, I do Teaching, socializing, participating\n"
          ]
        }
      ]
    },
    {
      "cell_type": "code",
      "source": [
        "#Polymorphism\n",
        "\n",
        "class Animal:\n",
        "    def __init__(self, name):\n",
        "        self.name = name\n",
        "\n",
        "class  Tiger(Animal):\n",
        "    def make_sound(self):\n",
        "        return \"Rawr!!! Rawr!!! \"\n",
        "\n",
        "class Cat(Animal):\n",
        "    def make_sound(self):\n",
        "        return \"Meow! Meow! Meow!\"\n",
        "\n",
        "tiger = Tiger(\"Browny\")\n",
        "cat = Cat(\"Nyanyaro\")\n",
        "\n",
        "print(\"Come here big guy,\",tiger.name, tiger.make_sound())\n",
        "print(\"Here little kitty have some food,\",cat.name, cat.make_sound())"
      ],
      "metadata": {
        "colab": {
          "base_uri": "https://localhost:8080/"
        },
        "id": "Y_5Sz8pgVwEn",
        "outputId": "7bf4f393-5d73-4d11-b0b2-ebc9a638fb05"
      },
      "execution_count": 28,
      "outputs": [
        {
          "output_type": "stream",
          "name": "stdout",
          "text": [
            "Come here big guy, Browny Rawr!!! Rawr!!! \n",
            "Here little kitty have some food, Nyanyaro Meow! Meow! Meow!\n"
          ]
        }
      ]
    }
  ]
}