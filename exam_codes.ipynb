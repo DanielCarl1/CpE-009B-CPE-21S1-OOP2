{
  "nbformat": 4,
  "nbformat_minor": 0,
  "metadata": {
    "colab": {
      "provenance": [],
      "authorship_tag": "ABX9TyPtxW9M5NFLnEt1/dLtlbfU",
      "include_colab_link": true
    },
    "kernelspec": {
      "name": "python3",
      "display_name": "Python 3"
    },
    "language_info": {
      "name": "python"
    }
  },
  "cells": [
    {
      "cell_type": "markdown",
      "metadata": {
        "id": "view-in-github",
        "colab_type": "text"
      },
      "source": [
        "<a href=\"https://colab.research.google.com/github/DanielCarl1/CpE-009B-CPE-21S1-OOP2/blob/main/exam_codes.ipynb\" target=\"_parent\"><img src=\"https://colab.research.google.com/assets/colab-badge.svg\" alt=\"Open In Colab\"/></a>"
      ]
    },
    {
      "cell_type": "code",
      "execution_count": 1,
      "metadata": {
        "colab": {
          "base_uri": "https://localhost:8080/"
        },
        "id": "v9TsjOrIK1rX",
        "outputId": "f8f5fa6b-4b66-43d8-ae46-512493839aec"
      },
      "outputs": [
        {
          "output_type": "stream",
          "name": "stdout",
          "text": [
            "Ana\n",
            "39\n"
          ]
        }
      ],
      "source": [
        "class Person:\n",
        "    def __init__(self, name, age):\n",
        "        self.name = name\n",
        "        self.age = age\n",
        "\n",
        "person = Person(\"Ana\",39)\n",
        "print(person.name)\n",
        "print(person.age)"
      ]
    },
    {
      "cell_type": "code",
      "source": [
        "class Shape:\n",
        "    def square(self):\n",
        "      return \"4 sides are equal\"\n",
        "    def rectangle(self):\n",
        "      return \"2 sides are equal\"\n",
        "\n",
        "class Polygon(Shape):\n",
        "    def triangle(self):\n",
        "      return \"has edges and vertices\"\n",
        "\n",
        "object = Shape()\n",
        "\n",
        "object.square()"
      ],
      "metadata": {
        "colab": {
          "base_uri": "https://localhost:8080/",
          "height": 35
        },
        "id": "bcrGdRjmLu7C",
        "outputId": "6fc067ef-51c2-4465-ce91-fc8923088c1f"
      },
      "execution_count": 2,
      "outputs": [
        {
          "output_type": "execute_result",
          "data": {
            "text/plain": [
              "'4 sides are equal'"
            ],
            "application/vnd.google.colaboratory.intrinsic+json": {
              "type": "string"
            }
          },
          "metadata": {},
          "execution_count": 2
        }
      ]
    },
    {
      "cell_type": "code",
      "source": [
        "class Cat:\n",
        "    def __init__(self, name):\n",
        "\n",
        "        self.name = name\n",
        "\n",
        "missy = Cat('Missy')\n",
        "lucky = Cat('Lucky')\n",
        "\n",
        "print(missy.name)\n",
        "print(lucky.name)"
      ],
      "metadata": {
        "colab": {
          "base_uri": "https://localhost:8080/"
        },
        "id": "YSl3cGajMa1a",
        "outputId": "caece980-847e-4add-e503-e1984a45e58c"
      },
      "execution_count": 4,
      "outputs": [
        {
          "output_type": "stream",
          "name": "stdout",
          "text": [
            "Missy\n",
            "Lucky\n"
          ]
        }
      ]
    },
    {
      "cell_type": "code",
      "source": [
        "class Rectangle:\n",
        "    def __init__(self,length,width):\n",
        "      self.length = length\n",
        "      self.width = width\n",
        "\n",
        "    def Area(self):\n",
        "      print(self.length * self.width)\n",
        "\n",
        "rect = Rectangle(7, 3)\n",
        "rect.Area()"
      ],
      "metadata": {
        "colab": {
          "base_uri": "https://localhost:8080/"
        },
        "id": "r--S9ZPOM0Nj",
        "outputId": "2924312e-361e-4972-f656-26e71562165e"
      },
      "execution_count": 6,
      "outputs": [
        {
          "output_type": "stream",
          "name": "stdout",
          "text": [
            "21\n"
          ]
        }
      ]
    },
    {
      "cell_type": "code",
      "source": [
        "class Shape:\n",
        "  def Area(self):\n",
        "    pass\n",
        "  def Perimeter(self):\n",
        "    pass\n",
        "\n",
        "class Rectangle:\n",
        "  def __init__(self,side1, side2):\n",
        "    self.side1 = side1\n",
        "    self.side2 = side2\n",
        "  def Area(self):\n",
        "    print(self.side1*self.side2)\n",
        "  def Perimeter(self):\n",
        "    print(2*(self.side1+self.side2))\n",
        "\n",
        "class Square(Shape):\n",
        "  def __init__(self,side):\n",
        "    self.side = side\n",
        "  def Area(self):\n",
        "    print(self.side ** 2)\n",
        "  def Perimeter(self):\n",
        "    print(self.side*4)\n",
        "\n",
        "square = Square(4)\n",
        "square.Area()\n",
        "\n",
        "rect=Rectangle(7,3)\n",
        "rect.Area()\n",
        "\n",
        "square.Perimeter()\n",
        "rect.Perimeter()"
      ],
      "metadata": {
        "colab": {
          "base_uri": "https://localhost:8080/"
        },
        "id": "mYgElN4kNJoK",
        "outputId": "09e58b8e-35ad-4bfd-fcd5-bd545508956f"
      },
      "execution_count": 8,
      "outputs": [
        {
          "output_type": "stream",
          "name": "stdout",
          "text": [
            "16\n",
            "21\n",
            "16\n",
            "20\n"
          ]
        }
      ]
    },
    {
      "cell_type": "markdown",
      "source": [
        "Vision\n",
        "\n",
        "We envision a better life for Filipinos by empowering our students with the best globally competitive technological education in engineering computing and allied disciplines.\n",
        "\n",
        "Mission\n",
        "\n",
        "Through digitalization and innovation in academic design and delivery T.I.P. students faculty staff and industry partners work together in both traditional and online"
      ],
      "metadata": {
        "id": "yQJ6Mt1hRvta"
      }
    }
  ]
}