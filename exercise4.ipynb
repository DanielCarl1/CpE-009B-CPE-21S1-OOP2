{
  "nbformat": 4,
  "nbformat_minor": 0,
  "metadata": {
    "colab": {
      "provenance": [],
      "authorship_tag": "ABX9TyN9Y/lKbJBl3sV+9nyK2pjh",
      "include_colab_link": true
    },
    "kernelspec": {
      "name": "python3",
      "display_name": "Python 3"
    },
    "language_info": {
      "name": "python"
    }
  },
  "cells": [
    {
      "cell_type": "markdown",
      "metadata": {
        "id": "view-in-github",
        "colab_type": "text"
      },
      "source": [
        "<a href=\"https://colab.research.google.com/github/DanielCarl1/CpE-009B-CPE-21S1-OOP2/blob/main/exercise4.ipynb\" target=\"_parent\"><img src=\"https://colab.research.google.com/assets/colab-badge.svg\" alt=\"Open In Colab\"/></a>"
      ]
    },
    {
      "cell_type": "code",
      "execution_count": 4,
      "metadata": {
        "colab": {
          "base_uri": "https://localhost:8080/"
        },
        "id": "gx6F0w5SKyQA",
        "outputId": "a7d8089a-2909-491d-d9ac-8dba7d9c62e2"
      },
      "outputs": [
        {
          "output_type": "execute_result",
          "data": {
            "text/plain": [
              "7"
            ]
          },
          "metadata": {},
          "execution_count": 4
        }
      ],
      "source": [
        "#Example:\n",
        "class foo:\n",
        "   def __init__(self, a, b):\n",
        "      self.a = a\n",
        "      self.b = b\n",
        "   def add(self):\n",
        "    return self.a + self.b\n",
        "foo_object = foo(3,4)\n",
        "foo_object.add()\n",
        ""
      ]
    },
    {
      "cell_type": "code",
      "source": [
        "#Example:\n",
        "class foo:\n",
        "   def __init__(self, a, b):\n",
        "      self.a = a\n",
        "      self.b = b\n",
        "   def add(self):\n",
        "    return self._a + self._b\n",
        "foo_object = foo(3,4)\n",
        "foo_object.add()"
      ],
      "metadata": {
        "colab": {
          "base_uri": "https://localhost:8080/",
          "height": 309
        },
        "id": "zygxRY8ANBmw",
        "outputId": "b3e929ed-e077-46f6-eb0c-62c38b862dc7"
      },
      "execution_count": 11,
      "outputs": [
        {
          "output_type": "error",
          "ename": "AttributeError",
          "evalue": "'foo' object has no attribute '_a'",
          "traceback": [
            "\u001b[0;31m---------------------------------------------------------------------------\u001b[0m",
            "\u001b[0;31mAttributeError\u001b[0m                            Traceback (most recent call last)",
            "\u001b[0;32m<ipython-input-11-d29fafd7d3d1>\u001b[0m in \u001b[0;36m<cell line: 9>\u001b[0;34m()\u001b[0m\n\u001b[1;32m      7\u001b[0m     \u001b[0;32mreturn\u001b[0m \u001b[0mself\u001b[0m\u001b[0;34m.\u001b[0m\u001b[0m_a\u001b[0m \u001b[0;34m+\u001b[0m \u001b[0mself\u001b[0m\u001b[0;34m.\u001b[0m\u001b[0m_b\u001b[0m\u001b[0;34m\u001b[0m\u001b[0;34m\u001b[0m\u001b[0m\n\u001b[1;32m      8\u001b[0m \u001b[0mfoo_object\u001b[0m \u001b[0;34m=\u001b[0m \u001b[0mfoo\u001b[0m\u001b[0;34m(\u001b[0m\u001b[0;36m3\u001b[0m\u001b[0;34m,\u001b[0m\u001b[0;36m4\u001b[0m\u001b[0;34m)\u001b[0m\u001b[0;34m\u001b[0m\u001b[0;34m\u001b[0m\u001b[0m\n\u001b[0;32m----> 9\u001b[0;31m \u001b[0mfoo_object\u001b[0m\u001b[0;34m.\u001b[0m\u001b[0madd\u001b[0m\u001b[0;34m(\u001b[0m\u001b[0;34m)\u001b[0m\u001b[0;34m\u001b[0m\u001b[0;34m\u001b[0m\u001b[0m\n\u001b[0m",
            "\u001b[0;32m<ipython-input-11-d29fafd7d3d1>\u001b[0m in \u001b[0;36madd\u001b[0;34m(self)\u001b[0m\n\u001b[1;32m      5\u001b[0m       \u001b[0mself\u001b[0m\u001b[0;34m.\u001b[0m\u001b[0mb\u001b[0m \u001b[0;34m=\u001b[0m \u001b[0mb\u001b[0m\u001b[0;34m\u001b[0m\u001b[0;34m\u001b[0m\u001b[0m\n\u001b[1;32m      6\u001b[0m    \u001b[0;32mdef\u001b[0m \u001b[0madd\u001b[0m\u001b[0;34m(\u001b[0m\u001b[0mself\u001b[0m\u001b[0;34m)\u001b[0m\u001b[0;34m:\u001b[0m\u001b[0;34m\u001b[0m\u001b[0;34m\u001b[0m\u001b[0m\n\u001b[0;32m----> 7\u001b[0;31m     \u001b[0;32mreturn\u001b[0m \u001b[0mself\u001b[0m\u001b[0;34m.\u001b[0m\u001b[0m_a\u001b[0m \u001b[0;34m+\u001b[0m \u001b[0mself\u001b[0m\u001b[0;34m.\u001b[0m\u001b[0m_b\u001b[0m\u001b[0;34m\u001b[0m\u001b[0;34m\u001b[0m\u001b[0m\n\u001b[0m\u001b[1;32m      8\u001b[0m \u001b[0mfoo_object\u001b[0m \u001b[0;34m=\u001b[0m \u001b[0mfoo\u001b[0m\u001b[0;34m(\u001b[0m\u001b[0;36m3\u001b[0m\u001b[0;34m,\u001b[0m\u001b[0;36m4\u001b[0m\u001b[0;34m)\u001b[0m\u001b[0;34m\u001b[0m\u001b[0;34m\u001b[0m\u001b[0m\n\u001b[1;32m      9\u001b[0m \u001b[0mfoo_object\u001b[0m\u001b[0;34m.\u001b[0m\u001b[0madd\u001b[0m\u001b[0;34m(\u001b[0m\u001b[0;34m)\u001b[0m\u001b[0;34m\u001b[0m\u001b[0;34m\u001b[0m\u001b[0m\n",
            "\u001b[0;31mAttributeError\u001b[0m: 'foo' object has no attribute '_a'"
          ]
        }
      ]
    },
    {
      "cell_type": "code",
      "source": [
        "#Error Ex\n",
        "class person:\n",
        "  def _init_(self,name,age):\n",
        "    self._name=name\n",
        "    self._age=age\n",
        "  def display(self):\n",
        "    return f\"My name is {self.name}and my age is {self.age}\"\n",
        "\n",
        "p1=person(\"Amy\",16)\n",
        "p1.display()"
      ],
      "metadata": {
        "colab": {
          "base_uri": "https://localhost:8080/",
          "height": 200
        },
        "id": "4lPmcYSLNsUH",
        "outputId": "d5571104-ba30-4e3c-a387-53cd49d1f89b"
      },
      "execution_count": 21,
      "outputs": [
        {
          "output_type": "error",
          "ename": "NameError",
          "evalue": "name 'Person' is not defined",
          "traceback": [
            "\u001b[0;31m---------------------------------------------------------------------------\u001b[0m",
            "\u001b[0;31mNameError\u001b[0m                                 Traceback (most recent call last)",
            "\u001b[0;32m<ipython-input-21-c43e4b0da291>\u001b[0m in \u001b[0;36m<cell line: 8>\u001b[0;34m()\u001b[0m\n\u001b[1;32m      6\u001b[0m     \u001b[0;32mreturn\u001b[0m \u001b[0;34mf\"My name is {self.name}and my age is {self.age}\"\u001b[0m\u001b[0;34m\u001b[0m\u001b[0;34m\u001b[0m\u001b[0m\n\u001b[1;32m      7\u001b[0m \u001b[0;34m\u001b[0m\u001b[0m\n\u001b[0;32m----> 8\u001b[0;31m \u001b[0mp1\u001b[0m\u001b[0;34m=\u001b[0m\u001b[0mPerson\u001b[0m\u001b[0;34m(\u001b[0m\u001b[0;34m\"Amy\"\u001b[0m\u001b[0;34m,\u001b[0m\u001b[0;36m16\u001b[0m\u001b[0;34m)\u001b[0m\u001b[0;34m\u001b[0m\u001b[0;34m\u001b[0m\u001b[0m\n\u001b[0m\u001b[1;32m      9\u001b[0m \u001b[0mp1\u001b[0m\u001b[0;34m.\u001b[0m\u001b[0mdisplay\u001b[0m\u001b[0;34m(\u001b[0m\u001b[0;34m)\u001b[0m\u001b[0;34m\u001b[0m\u001b[0;34m\u001b[0m\u001b[0m\n",
            "\u001b[0;31mNameError\u001b[0m: name 'Person' is not defined"
          ]
        }
      ]
    },
    {
      "cell_type": "code",
      "source": [
        "#Fixed\n",
        "class person:\n",
        "  def __init__(self,name,age):\n",
        "    self._name=name\n",
        "    self._age=age\n",
        "  def display(self):\n",
        "    return f\"My name is {self._name} and my age is {self._age}\"\n",
        "\n",
        "p1=person(\"Amy\",16)\n",
        "p1.display()"
      ],
      "metadata": {
        "colab": {
          "base_uri": "https://localhost:8080/",
          "height": 36
        },
        "id": "0KlbRIuoPOxY",
        "outputId": "cd4fb6be-fd92-4888-ea43-aac5f7310c5d"
      },
      "execution_count": 23,
      "outputs": [
        {
          "output_type": "execute_result",
          "data": {
            "text/plain": [
              "'My name is Amy and my age is 16'"
            ],
            "application/vnd.google.colaboratory.intrinsic+json": {
              "type": "string"
            }
          },
          "metadata": {},
          "execution_count": 23
        }
      ]
    },
    {
      "cell_type": "code",
      "source": [
        "class Counter:\n",
        "    def __init__(self):\n",
        "      self.current = 0\n",
        "    def increment(self):\n",
        "      self.current += 1\n",
        "    def value(self):\n",
        "      return self.current\n",
        "    def reset(self):\n",
        "      self.current = 0\n",
        "\n",
        "counter = Counter()\n",
        "counter.increment()\n",
        "counter.increment()\n",
        "counter.increment()\n",
        "print(counter.value())"
      ],
      "metadata": {
        "colab": {
          "base_uri": "https://localhost:8080/"
        },
        "id": "1fASPNesP9gW",
        "outputId": "5cf8cc6a-aede-4383-d668-37989000ddd2"
      },
      "execution_count": 24,
      "outputs": [
        {
          "output_type": "stream",
          "name": "stdout",
          "text": [
            "3\n"
          ]
        }
      ]
    },
    {
      "cell_type": "code",
      "source": [
        "\n",
        "class RegularPolygon:\n",
        "  def __init__(self,side):\n",
        "    self.side = side\n",
        "class Square(RegularPolygon):\n",
        "  def area(self):\n",
        "    return self.side * self.side\n",
        "class EquilateralTriangle(RegularPolygon):\n",
        "  def area(self):\n",
        "    return self.side * self.side * 0.433"
      ],
      "metadata": {
        "id": "duzwuAQlR9GA"
      },
      "execution_count": 31,
      "outputs": []
    },
    {
      "cell_type": "code",
      "source": [
        "# Application No.1 Challenge\n",
        "\n",
        "class Person:\n",
        "    def __init__(self, std1_name, std2_name, std3_name, std1_grades, std2_grades, std3_grades):\n",
        "\n",
        "        self.std1_name = std1_name\n",
        "        self.std2_name = std2_name\n",
        "        self.std3_name = std3_name\n",
        "\n",
        "        self.__std1_grades = std1_grades\n",
        "        self.__std2_grades = std2_grades\n",
        "        self.__std3_grades = std3_grades\n",
        "\n",
        "    def Grade(self, student_number):\n",
        "        if student_number == 1:\n",
        "            avg = sum(self.__std1_grades) / 3\n",
        "            return f\"{self.std1_name}'s average grade: {avg:.2f}\"\n",
        "        elif student_number == 2:\n",
        "            avg = sum(self.__std2_grades) / 3\n",
        "            return f\"{self.std2_name}'s average grade: {avg:.2f}\"\n",
        "        elif student_number == 3:\n",
        "            avg = sum(self.__std3_grades) / 3\n",
        "            return f\"{self.std3_name}'s average grade: {avg:.2f}\"\n",
        "        else:\n",
        "            return \"Invalid student number!\"\n",
        "\n",
        "    def display_students(self):\n",
        "        print(f\"Student 1: {self.std1_name}\")\n",
        "        print(f\"Student 2: {self.std2_name}\")\n",
        "        print(f\"Student 3: {self.std3_name}\")\n",
        "\n",
        "\n",
        "students = Person(\n",
        "    std1_name=\"Naruto\",\n",
        "    std2_name=\"Goku\",\n",
        "    std3_name=\"Luffy\",\n",
        "    std1_grades=[83, 92, 88],\n",
        "    std2_grades=[74, 85, 89],\n",
        "    std3_grades=[93, 86, 93]\n",
        ")\n",
        "\n",
        "\n",
        "students.display_students()\n",
        "\n",
        "#Ave Grade\n",
        "print(students.Grade(1))\n",
        "print(students.Grade(2))\n",
        "print(students.Grade(3))"
      ],
      "metadata": {
        "colab": {
          "base_uri": "https://localhost:8080/"
        },
        "id": "M-AiqPYgSf-V",
        "outputId": "5bce810b-1a4a-4cbd-beca-09ed40d66153"
      },
      "execution_count": 40,
      "outputs": [
        {
          "output_type": "stream",
          "name": "stdout",
          "text": [
            "Student 1: Naruto\n",
            "Student 2: Goku\n",
            "Student 3: Luffy\n",
            "Naruto's average grade: 87.67\n",
            "Goku's average grade: 82.67\n",
            "Luffy's average grade: 90.67\n"
          ]
        }
      ]
    }
  ]
}