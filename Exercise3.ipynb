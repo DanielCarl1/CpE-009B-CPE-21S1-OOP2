{
  "nbformat": 4,
  "nbformat_minor": 0,
  "metadata": {
    "colab": {
      "provenance": [],
      "authorship_tag": "ABX9TyP34waOVsOm2NvcpAbc3mCI",
      "include_colab_link": true
    },
    "kernelspec": {
      "name": "python3",
      "display_name": "Python 3"
    },
    "language_info": {
      "name": "python"
    }
  },
  "cells": [
    {
      "cell_type": "markdown",
      "metadata": {
        "id": "view-in-github",
        "colab_type": "text"
      },
      "source": [
        "<a href=\"https://colab.research.google.com/github/DanielCarl1/CpE-009B-CPE-21S1-OOP2/blob/main/Exercise3.ipynb\" target=\"_parent\"><img src=\"https://colab.research.google.com/assets/colab-badge.svg\" alt=\"Open In Colab\"/></a>"
      ]
    },
    {
      "cell_type": "code",
      "execution_count": 6,
      "metadata": {
        "colab": {
          "base_uri": "https://localhost:8080/"
        },
        "id": "KnaolZVII7GB",
        "outputId": "c665b68f-989d-41e2-8327-bdc2cbbaae7e"
      },
      "outputs": [
        {
          "output_type": "stream",
          "name": "stdout",
          "text": [
            "The Sedan car has a color black\n"
          ]
        }
      ],
      "source": [
        "#Create a class\n",
        "class Car: #name of class\n",
        "  def __init__(self,name,color):\n",
        "    self.name = name #property name/attributes\n",
        "    self.color=color\n",
        "\n",
        "  def description(self):        #class methods\n",
        "    return f\"The {self.name} car has a color {self.color}\"\n",
        "car = Car(\"Sedan\",\"black\")   #creating an object name\n",
        "print(car.description())"
      ]
    },
    {
      "cell_type": "code",
      "source": [
        "#inheritance\n",
        "class Car: #name of super class/parent\n",
        "  def __init__(self,name,color):\n",
        "    self.name = name #property name/attributes\n",
        "    self.color=color\n",
        "  def description(self):\n",
        "    return f\"The {self.name} car has a color {self.color}\"\n",
        "\n",
        "class BMW(Car):\n",
        "  pass #sub class/child class\n",
        "class Audi(Car):\n",
        "  def audi_description(self):\n",
        "    return \"The description of this car is an Audi\"\n",
        "\n",
        "bmw = BMW(\"A\",\"red\")\n",
        "print(bmw.description())\n",
        "\n",
        "audi = Audi('B','blue')\n",
        "print(audi.description())\n",
        "print(audi.audi_description())"
      ],
      "metadata": {
        "colab": {
          "base_uri": "https://localhost:8080/"
        },
        "id": "Hi5TPeSvPni1",
        "outputId": "73a3ed6e-b352-4455-c428-b9e0098e1580"
      },
      "execution_count": 8,
      "outputs": [
        {
          "output_type": "stream",
          "name": "stdout",
          "text": [
            "The A car has a color red\n",
            "The B car has a color blue\n",
            "The description of this car is an Audi\n"
          ]
        }
      ]
    },
    {
      "cell_type": "code",
      "source": [
        "#Write a Python program that has\n",
        "#1. class Rectangle\n",
        "#2. attributes length and width\n",
        "#3. Perimeter () method to compute for the perimeter; and\n",
        "#4. Area() method to compute for the area\n",
        "\n",
        "\n",
        "class Rectangle:\n",
        "    def __init__(self, length, width):\n",
        "        # Initialize the length and width attributes\n",
        "        self.length = length\n",
        "        self.width = width\n",
        "\n",
        "    def perimeter(self):\n",
        "        return 2 * (self.length + self.width)\n",
        "\n",
        "    def area(self):\n",
        "        return self.length * self.width\n",
        "\n",
        "\n",
        "rect = Rectangle(35, 10)\n",
        "\n",
        "# Calculating and printing perimeter and area\n",
        "print(\"Perimeter:\", rect.perimeter())\n",
        "print(\"Area:\", rect.area())\n",
        "\n",
        "\n",
        "\n"
      ],
      "metadata": {
        "colab": {
          "base_uri": "https://localhost:8080/"
        },
        "id": "wpj1PlM3WE45",
        "outputId": "aca2ab2e-f1cb-460b-d57b-6cee557a0d19"
      },
      "execution_count": 13,
      "outputs": [
        {
          "output_type": "stream",
          "name": "stdout",
          "text": [
            "Perimeter: 90\n",
            "Area: 350\n"
          ]
        }
      ]
    }
  ]
}