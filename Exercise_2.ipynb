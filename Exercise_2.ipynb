{
  "nbformat": 4,
  "nbformat_minor": 0,
  "metadata": {
    "colab": {
      "provenance": [],
      "authorship_tag": "ABX9TyOEl+iEcQv/CUfUOt2WfmWo",
      "include_colab_link": true
    },
    "kernelspec": {
      "name": "python3",
      "display_name": "Python 3"
    },
    "language_info": {
      "name": "python"
    }
  },
  "cells": [
    {
      "cell_type": "markdown",
      "metadata": {
        "id": "view-in-github",
        "colab_type": "text"
      },
      "source": [
        "<a href=\"https://colab.research.google.com/github/DanielCarl1/CpE-009B-CPE-21S1-OOP2/blob/main/Exercise_2.ipynb\" target=\"_parent\"><img src=\"https://colab.research.google.com/assets/colab-badge.svg\" alt=\"Open In Colab\"/></a>"
      ]
    },
    {
      "cell_type": "code",
      "execution_count": 4,
      "metadata": {
        "colab": {
          "base_uri": "https://localhost:8080/"
        },
        "id": "6XMtZPWbRq4o",
        "outputId": "e7d5f9aa-01a9-43fe-d2c6-01ccd9513a85"
      },
      "outputs": [
        {
          "output_type": "stream",
          "name": "stdout",
          "text": [
            "Input Grade: 76\n",
            "You got a grade of 76.0 passed!\n"
          ]
        }
      ],
      "source": [
        "grade= float(input(\"Input Grade: \"))\n",
        "\n",
        "if grade<0:\n",
        "      print(f\"You got grade of\", (grade))\n",
        "elif grade>75:\n",
        "      print(f\"You got a grade of\", (grade), \"passed!\")\n",
        "elif grade==74:\n",
        "      print(f(\"You got a grade of\", (grade), \"failed you need to take a remedial\"))\n",
        "else:\n",
        "      print(f\"You got a grade of\", (grade), \"failed you need to take a remedial\")"
      ]
    },
    {
      "cell_type": "code",
      "source": [],
      "metadata": {
        "id": "9wYdvrWFXDNO"
      },
      "execution_count": null,
      "outputs": []
    }
  ]
}